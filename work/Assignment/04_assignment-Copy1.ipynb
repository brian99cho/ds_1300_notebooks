{
 "cells": [
  {
   "cell_type": "markdown",
   "id": "ecb4ebca",
   "metadata": {},
   "source": [
    "# Data Visualization"
   ]
  },
  {
   "cell_type": "markdown",
   "id": "0c3da741",
   "metadata": {},
   "source": [
    "Select a dataset we have used in class (or outside of class).\n",
    "\n",
    "Generate a plot that you feel visualizes the data is an interesting way. Your plot should have the following elements:\n",
    "\n",
    ">1) Title\n",
    ">2) Legend\n",
    ">3) Axes or other Labels\n",
    ">4) Color\n",
    ">5) 1 sentence description of what your plot shows\n",
    ">6) Brief description of why you chose to make the plot the way you did.\n",
    "\n",
    "You may use pandas, matplotlib, or seaborn.\n",
    "\n",
    "Upload a pdf of the plot to Canvas."
   ]
  },
  {
   "cell_type": "code",
   "execution_count": 1,
   "id": "fb3fafe3-7ef3-40de-9487-f14947e28b98",
   "metadata": {},
   "outputs": [],
   "source": [
    "import ujson as json\n",
    "import pandas as pd\n",
    "import numpy as np\n",
    "from matplotlib import pyplot\n",
    "import geopandas \n",
    "import csv"
   ]
  },
  {
   "cell_type": "code",
   "execution_count": 2,
   "id": "d4db7eb5-ba83-4a4b-b3bf-021e28b4564e",
   "metadata": {},
   "outputs": [],
   "source": [
    "records = map(json.loads, open('/users/chob/full_simplified_soccer ball.ndjson'))\n",
    "df = pd.DataFrame.from_records(records)"
   ]
  },
  {
   "cell_type": "code",
   "execution_count": 3,
   "id": "46a405db-a469-4d06-ac3d-df387ade1846",
   "metadata": {},
   "outputs": [],
   "source": [
    "df.to_csv('/users/chob/soccer_ball.csv', index=False)"
   ]
  },
  {
   "cell_type": "code",
   "execution_count": 5,
   "id": "08c47e2f-a1ea-499f-9956-82a686b56d62",
   "metadata": {},
   "outputs": [],
   "source": [
    "country_code = 'Country code.csv'\n",
    "dc = pd.read_csv(country_code)\n",
    "dc = dc.fillna(\"No INFO\")"
   ]
  },
  {
   "cell_type": "code",
   "execution_count": 6,
   "id": "1e0b1fb4-7dd1-4acd-a5bf-8799b8734ab5",
   "metadata": {},
   "outputs": [
    {
     "data": {
      "text/html": [
       "<div>\n",
       "<style scoped>\n",
       "    .dataframe tbody tr th:only-of-type {\n",
       "        vertical-align: middle;\n",
       "    }\n",
       "\n",
       "    .dataframe tbody tr th {\n",
       "        vertical-align: top;\n",
       "    }\n",
       "\n",
       "    .dataframe thead th {\n",
       "        text-align: right;\n",
       "    }\n",
       "</style>\n",
       "<table border=\"1\" class=\"dataframe\">\n",
       "  <thead>\n",
       "    <tr style=\"text-align: right;\">\n",
       "      <th></th>\n",
       "      <th>word</th>\n",
       "      <th>countrycode</th>\n",
       "      <th>timestamp</th>\n",
       "      <th>recognized</th>\n",
       "      <th>key_id</th>\n",
       "      <th>drawing</th>\n",
       "      <th>Continent</th>\n",
       "      <th>Country</th>\n",
       "      <th>ISO (2)</th>\n",
       "    </tr>\n",
       "  </thead>\n",
       "  <tbody>\n",
       "    <tr>\n",
       "      <th>120144</th>\n",
       "      <td>soccer ball</td>\n",
       "      <td>ZA</td>\n",
       "      <td>2017-03-19 10:43:31.77836 UTC</td>\n",
       "      <td>True</td>\n",
       "      <td>6170545781473280</td>\n",
       "      <td>[[[129, 117, 86, 69, 51, 36, 18, 8, 2, 0, 6, 3...</td>\n",
       "      <td>Africa</td>\n",
       "      <td>South Africa</td>\n",
       "      <td>ZA</td>\n",
       "    </tr>\n",
       "    <tr>\n",
       "      <th>120053</th>\n",
       "      <td>soccer ball</td>\n",
       "      <td>ZA</td>\n",
       "      <td>2017-01-23 11:48:08.81611 UTC</td>\n",
       "      <td>True</td>\n",
       "      <td>5599077418926080</td>\n",
       "      <td>[[[22, 18, 15, 4, 4, 14, 44, 101, 141, 159, 17...</td>\n",
       "      <td>Africa</td>\n",
       "      <td>South Africa</td>\n",
       "      <td>ZA</td>\n",
       "    </tr>\n",
       "    <tr>\n",
       "      <th>120054</th>\n",
       "      <td>soccer ball</td>\n",
       "      <td>ZA</td>\n",
       "      <td>2017-03-26 19:27:36.04287 UTC</td>\n",
       "      <td>True</td>\n",
       "      <td>5785509580242944</td>\n",
       "      <td>[[[245, 244, 240, 221, 200, 160, 128, 109, 92,...</td>\n",
       "      <td>Africa</td>\n",
       "      <td>South Africa</td>\n",
       "      <td>ZA</td>\n",
       "    </tr>\n",
       "    <tr>\n",
       "      <th>120055</th>\n",
       "      <td>soccer ball</td>\n",
       "      <td>ZA</td>\n",
       "      <td>2017-01-26 18:58:06.08629 UTC</td>\n",
       "      <td>True</td>\n",
       "      <td>6743253586018304</td>\n",
       "      <td>[[[220, 197, 154, 119, 103, 88, 57, 20, 5, 0, ...</td>\n",
       "      <td>Africa</td>\n",
       "      <td>South Africa</td>\n",
       "      <td>ZA</td>\n",
       "    </tr>\n",
       "    <tr>\n",
       "      <th>120056</th>\n",
       "      <td>soccer ball</td>\n",
       "      <td>ZA</td>\n",
       "      <td>2017-03-10 15:17:48.03219 UTC</td>\n",
       "      <td>True</td>\n",
       "      <td>5431471315615744</td>\n",
       "      <td>[[[50, 54, 71, 103, 135, 161, 196, 216, 231, 2...</td>\n",
       "      <td>Africa</td>\n",
       "      <td>South Africa</td>\n",
       "      <td>ZA</td>\n",
       "    </tr>\n",
       "    <tr>\n",
       "      <th>...</th>\n",
       "      <td>...</td>\n",
       "      <td>...</td>\n",
       "      <td>...</td>\n",
       "      <td>...</td>\n",
       "      <td>...</td>\n",
       "      <td>...</td>\n",
       "      <td>...</td>\n",
       "      <td>...</td>\n",
       "      <td>...</td>\n",
       "    </tr>\n",
       "    <tr>\n",
       "      <th>100544</th>\n",
       "      <td>soccer ball</td>\n",
       "      <td>AU</td>\n",
       "      <td>2017-03-29 05:18:58.38643 UTC</td>\n",
       "      <td>True</td>\n",
       "      <td>6175248938434560</td>\n",
       "      <td>[[[59, 49, 40, 28, 17, 14, 20, 31, 56, 93, 130...</td>\n",
       "      <td>Oceania</td>\n",
       "      <td>Australia</td>\n",
       "      <td>AU</td>\n",
       "    </tr>\n",
       "    <tr>\n",
       "      <th>100545</th>\n",
       "      <td>soccer ball</td>\n",
       "      <td>AU</td>\n",
       "      <td>2017-01-23 21:33:09.31216 UTC</td>\n",
       "      <td>True</td>\n",
       "      <td>4850783889653760</td>\n",
       "      <td>[[[143, 110, 70, 45, 24, 5, 0, 13, 36, 59, 94,...</td>\n",
       "      <td>Oceania</td>\n",
       "      <td>Australia</td>\n",
       "      <td>AU</td>\n",
       "    </tr>\n",
       "    <tr>\n",
       "      <th>100546</th>\n",
       "      <td>soccer ball</td>\n",
       "      <td>AU</td>\n",
       "      <td>2017-03-27 09:12:11.19184 UTC</td>\n",
       "      <td>True</td>\n",
       "      <td>6132575150014464</td>\n",
       "      <td>[[[42, 74, 132, 204, 245, 254, 228, 206, 166, ...</td>\n",
       "      <td>Oceania</td>\n",
       "      <td>Australia</td>\n",
       "      <td>AU</td>\n",
       "    </tr>\n",
       "    <tr>\n",
       "      <th>100540</th>\n",
       "      <td>soccer ball</td>\n",
       "      <td>AU</td>\n",
       "      <td>2017-03-17 08:27:42.19728 UTC</td>\n",
       "      <td>True</td>\n",
       "      <td>5759818662936576</td>\n",
       "      <td>[[[96, 16, 2, 0, 2, 18, 34, 56, 86, 203, 236, ...</td>\n",
       "      <td>Oceania</td>\n",
       "      <td>Australia</td>\n",
       "      <td>AU</td>\n",
       "    </tr>\n",
       "    <tr>\n",
       "      <th>101805</th>\n",
       "      <td>soccer ball</td>\n",
       "      <td>AU</td>\n",
       "      <td>2017-03-04 02:33:30.23899 UTC</td>\n",
       "      <td>True</td>\n",
       "      <td>6256238281097216</td>\n",
       "      <td>[[[91, 82, 57, 25, 11, 3, 0, 1, 8, 32, 50, 69,...</td>\n",
       "      <td>Oceania</td>\n",
       "      <td>Australia</td>\n",
       "      <td>AU</td>\n",
       "    </tr>\n",
       "  </tbody>\n",
       "</table>\n",
       "<p>124045 rows × 9 columns</p>\n",
       "</div>"
      ],
      "text/plain": [
       "               word countrycode                      timestamp recognized  \\\n",
       "120144  soccer ball          ZA  2017-03-19 10:43:31.77836 UTC       True   \n",
       "120053  soccer ball          ZA  2017-01-23 11:48:08.81611 UTC       True   \n",
       "120054  soccer ball          ZA  2017-03-26 19:27:36.04287 UTC       True   \n",
       "120055  soccer ball          ZA  2017-01-26 18:58:06.08629 UTC       True   \n",
       "120056  soccer ball          ZA  2017-03-10 15:17:48.03219 UTC       True   \n",
       "...             ...         ...                            ...        ...   \n",
       "100544  soccer ball          AU  2017-03-29 05:18:58.38643 UTC       True   \n",
       "100545  soccer ball          AU  2017-01-23 21:33:09.31216 UTC       True   \n",
       "100546  soccer ball          AU  2017-03-27 09:12:11.19184 UTC       True   \n",
       "100540  soccer ball          AU  2017-03-17 08:27:42.19728 UTC       True   \n",
       "101805  soccer ball          AU  2017-03-04 02:33:30.23899 UTC       True   \n",
       "\n",
       "                  key_id                                            drawing  \\\n",
       "120144  6170545781473280  [[[129, 117, 86, 69, 51, 36, 18, 8, 2, 0, 6, 3...   \n",
       "120053  5599077418926080  [[[22, 18, 15, 4, 4, 14, 44, 101, 141, 159, 17...   \n",
       "120054  5785509580242944  [[[245, 244, 240, 221, 200, 160, 128, 109, 92,...   \n",
       "120055  6743253586018304  [[[220, 197, 154, 119, 103, 88, 57, 20, 5, 0, ...   \n",
       "120056  5431471315615744  [[[50, 54, 71, 103, 135, 161, 196, 216, 231, 2...   \n",
       "...                  ...                                                ...   \n",
       "100544  6175248938434560  [[[59, 49, 40, 28, 17, 14, 20, 31, 56, 93, 130...   \n",
       "100545  4850783889653760  [[[143, 110, 70, 45, 24, 5, 0, 13, 36, 59, 94,...   \n",
       "100546  6132575150014464  [[[42, 74, 132, 204, 245, 254, 228, 206, 166, ...   \n",
       "100540  5759818662936576  [[[96, 16, 2, 0, 2, 18, 34, 56, 86, 203, 236, ...   \n",
       "101805  6256238281097216  [[[91, 82, 57, 25, 11, 3, 0, 1, 8, 32, 50, 69,...   \n",
       "\n",
       "       Continent       Country ISO (2)  \n",
       "120144    Africa  South Africa      ZA  \n",
       "120053    Africa  South Africa      ZA  \n",
       "120054    Africa  South Africa      ZA  \n",
       "120055    Africa  South Africa      ZA  \n",
       "120056    Africa  South Africa      ZA  \n",
       "...          ...           ...     ...  \n",
       "100544   Oceania     Australia      AU  \n",
       "100545   Oceania     Australia      AU  \n",
       "100546   Oceania     Australia      AU  \n",
       "100540   Oceania     Australia      AU  \n",
       "101805   Oceania     Australia      AU  \n",
       "\n",
       "[124045 rows x 9 columns]"
      ]
     },
     "execution_count": 6,
     "metadata": {},
     "output_type": "execute_result"
    }
   ],
   "source": [
    "merge = pd.merge(df,dc,left_on ='countrycode', right_on ='ISO (2)', how ='outer')\n",
    "merge=merge.dropna()\n",
    "merge=merge.sort_values(by='Continent')\n",
    "merge"
   ]
  },
  {
   "cell_type": "code",
   "execution_count": 9,
   "id": "9c572b91-426f-422c-b690-2ed28fa9b91b",
   "metadata": {},
   "outputs": [
    {
     "data": {
      "text/plain": [
       "Americas    66378\n",
       "Europe      35179\n",
       "Asia        18122\n",
       "Oceania      3512\n",
       "Africa        854\n",
       "Name: Continent, dtype: int64"
      ]
     },
     "execution_count": 9,
     "metadata": {},
     "output_type": "execute_result"
    }
   ],
   "source": [
    "merge['Continent'].value_counts()"
   ]
  },
  {
   "cell_type": "code",
   "execution_count": 10,
   "id": "855397b9",
   "metadata": {},
   "outputs": [
    {
     "data": {
      "text/plain": [
       "Text(0, 0.5, 'Continent')"
      ]
     },
     "execution_count": 10,
     "metadata": {},
     "output_type": "execute_result"
    },
    {
     "data": {
      "image/png": "[encoded data removed]",
      "text/plain": [
       "<Figure size 720x720 with 1 Axes>"
      ]
     },
     "metadata": {
      "needs_background": "light"
     },
     "output_type": "display_data"
    }
   ],
   "source": [
    "\n",
    "plt = merge['Continent'].value_counts().plot(kind='bar',color=['lightblue', 'red', 'lightgreen', 'cyan', 'pink'],edgecolor='gold',figsize=(10,10))\n",
    "plt.set_title(\"Soccer Ball Drawings by Continent\", fontsize=20, verticalalignment='bottom')\n",
    "plt.set_xlabel(\"Number of Inputs\")\n",
    "plt.set_ylabel(\"Continent\")\n"
   ]
  },
  {
   "cell_type": "code",
   "execution_count": null,
   "id": "d81bc6dd-fe16-41d3-a87b-4dc88e67501a",
   "metadata": {},
   "outputs": [],
   "source": []
  }
 ],
 "metadata": {
  "jupytext": {
   "formats": "ipynb"
  },
  "kernelspec": {
   "display_name": "Python 3 (ipykernel)",
   "language": "python",
   "name": "python3"
  },
  "language_info": {
   "codemirror_mode": {
    "name": "ipython",
    "version": 3
   },
   "file_extension": ".py",
   "mimetype": "text/x-python",
   "name": "python",
   "nbconvert_exporter": "python",
   "pygments_lexer": "ipython3",
   "version": "3.9.12"
  }
 },
 "nbformat": 4,
 "nbformat_minor": 5
}
